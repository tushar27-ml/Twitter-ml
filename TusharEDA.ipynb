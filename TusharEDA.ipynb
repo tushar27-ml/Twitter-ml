{
  "nbformat": 4,
  "nbformat_minor": 0,
  "metadata": {
    "colab": {
      "name": "TusharEDA.ipynb",
      "provenance": [],
      "collapsed_sections": []
    },
    "kernelspec": {
      "name": "python3",
      "display_name": "Python 3"
    }
  },
  "cells": [
    {
      "cell_type": "code",
      "metadata": {
        "colab": {
          "base_uri": "https://localhost:8080/"
        },
        "id": "l-9oDW2dMzUP",
        "outputId": "9c853cb3-c4a3-44e5-f3a0-4767d5119ff2"
      },
      "source": [
        "from google.colab import drive\r\n",
        "drive.mount('/content/drive')"
      ],
      "execution_count": null,
      "outputs": [
        {
          "output_type": "stream",
          "text": [
            "Mounted at /content/drive\n"
          ],
          "name": "stdout"
        }
      ]
    },
    {
      "cell_type": "code",
      "metadata": {
        "id": "9tZdmX8zNOMv"
      },
      "source": [
        "file_name =  \"/content/drive/Shared drives/Enigma/DATASETS/tmdb-movies.csv\""
      ],
      "execution_count": null,
      "outputs": []
    },
    {
      "cell_type": "code",
      "metadata": {
        "id": "s_QV39NhNxWk"
      },
      "source": [
        "import pandas as pd\r\n",
        "import matplotlib.pyplot as plt\r\n",
        "import seaborn as sns\r\n",
        "import numpy as np\r\n",
        "from nltk import FreqDist"
      ],
      "execution_count": null,
      "outputs": []
    },
    {
      "cell_type": "code",
      "metadata": {
        "id": "rb1f-OPVOA3e"
      },
      "source": [
        "imdb_file = pd.read_csv(file_name, sep = \",\")"
      ],
      "execution_count": null,
      "outputs": []
    },
    {
      "cell_type": "code",
      "metadata": {
        "colab": {
          "base_uri": "https://localhost:8080/",
          "height": 348
        },
        "id": "n3TwnSxkOIPp",
        "outputId": "25403d7b-e34b-48f8-a44b-d2b302f7f9fd"
      },
      "source": [
        "imdb_file.head(3)"
      ],
      "execution_count": null,
      "outputs": [
        {
          "output_type": "execute_result",
          "data": {
            "text/html": [
              "<div>\n",
              "<style scoped>\n",
              "    .dataframe tbody tr th:only-of-type {\n",
              "        vertical-align: middle;\n",
              "    }\n",
              "\n",
              "    .dataframe tbody tr th {\n",
              "        vertical-align: top;\n",
              "    }\n",
              "\n",
              "    .dataframe thead th {\n",
              "        text-align: right;\n",
              "    }\n",
              "</style>\n",
              "<table border=\"1\" class=\"dataframe\">\n",
              "  <thead>\n",
              "    <tr style=\"text-align: right;\">\n",
              "      <th></th>\n",
              "      <th>id</th>\n",
              "      <th>imdb_id</th>\n",
              "      <th>popularity</th>\n",
              "      <th>budget</th>\n",
              "      <th>revenue</th>\n",
              "      <th>original_title</th>\n",
              "      <th>cast</th>\n",
              "      <th>homepage</th>\n",
              "      <th>director</th>\n",
              "      <th>tagline</th>\n",
              "      <th>keywords</th>\n",
              "      <th>overview</th>\n",
              "      <th>runtime</th>\n",
              "      <th>genres</th>\n",
              "      <th>production_companies</th>\n",
              "      <th>release_date</th>\n",
              "      <th>vote_count</th>\n",
              "      <th>vote_average</th>\n",
              "      <th>release_year</th>\n",
              "      <th>budget_adj</th>\n",
              "      <th>revenue_adj</th>\n",
              "    </tr>\n",
              "  </thead>\n",
              "  <tbody>\n",
              "    <tr>\n",
              "      <th>0</th>\n",
              "      <td>135397</td>\n",
              "      <td>tt0369610</td>\n",
              "      <td>32.985763</td>\n",
              "      <td>150000000</td>\n",
              "      <td>1513528810</td>\n",
              "      <td>Jurassic World</td>\n",
              "      <td>Chris Pratt|Bryce Dallas Howard|Irrfan Khan|Vi...</td>\n",
              "      <td>http://www.jurassicworld.com/</td>\n",
              "      <td>Colin Trevorrow</td>\n",
              "      <td>The park is open.</td>\n",
              "      <td>monster|dna|tyrannosaurus rex|velociraptor|island</td>\n",
              "      <td>Twenty-two years after the events of Jurassic ...</td>\n",
              "      <td>124</td>\n",
              "      <td>Action|Adventure|Science Fiction|Thriller</td>\n",
              "      <td>Universal Studios|Amblin Entertainment|Legenda...</td>\n",
              "      <td>6/9/15</td>\n",
              "      <td>5562</td>\n",
              "      <td>6.5</td>\n",
              "      <td>2015</td>\n",
              "      <td>1.379999e+08</td>\n",
              "      <td>1.392446e+09</td>\n",
              "    </tr>\n",
              "    <tr>\n",
              "      <th>1</th>\n",
              "      <td>76341</td>\n",
              "      <td>tt1392190</td>\n",
              "      <td>28.419936</td>\n",
              "      <td>150000000</td>\n",
              "      <td>378436354</td>\n",
              "      <td>Mad Max: Fury Road</td>\n",
              "      <td>Tom Hardy|Charlize Theron|Hugh Keays-Byrne|Nic...</td>\n",
              "      <td>http://www.madmaxmovie.com/</td>\n",
              "      <td>George Miller</td>\n",
              "      <td>What a Lovely Day.</td>\n",
              "      <td>future|chase|post-apocalyptic|dystopia|australia</td>\n",
              "      <td>An apocalyptic story set in the furthest reach...</td>\n",
              "      <td>120</td>\n",
              "      <td>Action|Adventure|Science Fiction|Thriller</td>\n",
              "      <td>Village Roadshow Pictures|Kennedy Miller Produ...</td>\n",
              "      <td>5/13/15</td>\n",
              "      <td>6185</td>\n",
              "      <td>7.1</td>\n",
              "      <td>2015</td>\n",
              "      <td>1.379999e+08</td>\n",
              "      <td>3.481613e+08</td>\n",
              "    </tr>\n",
              "    <tr>\n",
              "      <th>2</th>\n",
              "      <td>262500</td>\n",
              "      <td>tt2908446</td>\n",
              "      <td>13.112507</td>\n",
              "      <td>110000000</td>\n",
              "      <td>295238201</td>\n",
              "      <td>Insurgent</td>\n",
              "      <td>Shailene Woodley|Theo James|Kate Winslet|Ansel...</td>\n",
              "      <td>http://www.thedivergentseries.movie/#insurgent</td>\n",
              "      <td>Robert Schwentke</td>\n",
              "      <td>One Choice Can Destroy You</td>\n",
              "      <td>based on novel|revolution|dystopia|sequel|dyst...</td>\n",
              "      <td>Beatrice Prior must confront her inner demons ...</td>\n",
              "      <td>119</td>\n",
              "      <td>Adventure|Science Fiction|Thriller</td>\n",
              "      <td>Summit Entertainment|Mandeville Films|Red Wago...</td>\n",
              "      <td>3/18/15</td>\n",
              "      <td>2480</td>\n",
              "      <td>6.3</td>\n",
              "      <td>2015</td>\n",
              "      <td>1.012000e+08</td>\n",
              "      <td>2.716190e+08</td>\n",
              "    </tr>\n",
              "  </tbody>\n",
              "</table>\n",
              "</div>"
            ],
            "text/plain": [
              "       id    imdb_id  popularity  ...  release_year    budget_adj   revenue_adj\n",
              "0  135397  tt0369610   32.985763  ...          2015  1.379999e+08  1.392446e+09\n",
              "1   76341  tt1392190   28.419936  ...          2015  1.379999e+08  3.481613e+08\n",
              "2  262500  tt2908446   13.112507  ...          2015  1.012000e+08  2.716190e+08\n",
              "\n",
              "[3 rows x 21 columns]"
            ]
          },
          "metadata": {
            "tags": []
          },
          "execution_count": 5
        }
      ]
    },
    {
      "cell_type": "code",
      "metadata": {
        "colab": {
          "base_uri": "https://localhost:8080/",
          "height": 277
        },
        "id": "E201i9sYOLLL",
        "outputId": "9c41a742-4edf-425a-c50f-a6a06383394c"
      },
      "source": [
        "imdb_file.describe()"
      ],
      "execution_count": null,
      "outputs": [
        {
          "output_type": "execute_result",
          "data": {
            "text/html": [
              "<div>\n",
              "<style scoped>\n",
              "    .dataframe tbody tr th:only-of-type {\n",
              "        vertical-align: middle;\n",
              "    }\n",
              "\n",
              "    .dataframe tbody tr th {\n",
              "        vertical-align: top;\n",
              "    }\n",
              "\n",
              "    .dataframe thead th {\n",
              "        text-align: right;\n",
              "    }\n",
              "</style>\n",
              "<table border=\"1\" class=\"dataframe\">\n",
              "  <thead>\n",
              "    <tr style=\"text-align: right;\">\n",
              "      <th></th>\n",
              "      <th>id</th>\n",
              "      <th>popularity</th>\n",
              "      <th>budget</th>\n",
              "      <th>revenue</th>\n",
              "      <th>runtime</th>\n",
              "      <th>vote_count</th>\n",
              "      <th>vote_average</th>\n",
              "      <th>release_year</th>\n",
              "      <th>budget_adj</th>\n",
              "      <th>revenue_adj</th>\n",
              "    </tr>\n",
              "  </thead>\n",
              "  <tbody>\n",
              "    <tr>\n",
              "      <th>count</th>\n",
              "      <td>10866.000000</td>\n",
              "      <td>10866.000000</td>\n",
              "      <td>1.086600e+04</td>\n",
              "      <td>1.086600e+04</td>\n",
              "      <td>10866.000000</td>\n",
              "      <td>10866.000000</td>\n",
              "      <td>10866.000000</td>\n",
              "      <td>10866.000000</td>\n",
              "      <td>1.086600e+04</td>\n",
              "      <td>1.086600e+04</td>\n",
              "    </tr>\n",
              "    <tr>\n",
              "      <th>mean</th>\n",
              "      <td>66064.177434</td>\n",
              "      <td>0.646441</td>\n",
              "      <td>1.462570e+07</td>\n",
              "      <td>3.982332e+07</td>\n",
              "      <td>102.070863</td>\n",
              "      <td>217.389748</td>\n",
              "      <td>5.974922</td>\n",
              "      <td>2001.322658</td>\n",
              "      <td>1.755104e+07</td>\n",
              "      <td>5.136436e+07</td>\n",
              "    </tr>\n",
              "    <tr>\n",
              "      <th>std</th>\n",
              "      <td>92130.136561</td>\n",
              "      <td>1.000185</td>\n",
              "      <td>3.091321e+07</td>\n",
              "      <td>1.170035e+08</td>\n",
              "      <td>31.381405</td>\n",
              "      <td>575.619058</td>\n",
              "      <td>0.935142</td>\n",
              "      <td>12.812941</td>\n",
              "      <td>3.430616e+07</td>\n",
              "      <td>1.446325e+08</td>\n",
              "    </tr>\n",
              "    <tr>\n",
              "      <th>min</th>\n",
              "      <td>5.000000</td>\n",
              "      <td>0.000065</td>\n",
              "      <td>0.000000e+00</td>\n",
              "      <td>0.000000e+00</td>\n",
              "      <td>0.000000</td>\n",
              "      <td>10.000000</td>\n",
              "      <td>1.500000</td>\n",
              "      <td>1960.000000</td>\n",
              "      <td>0.000000e+00</td>\n",
              "      <td>0.000000e+00</td>\n",
              "    </tr>\n",
              "    <tr>\n",
              "      <th>25%</th>\n",
              "      <td>10596.250000</td>\n",
              "      <td>0.207583</td>\n",
              "      <td>0.000000e+00</td>\n",
              "      <td>0.000000e+00</td>\n",
              "      <td>90.000000</td>\n",
              "      <td>17.000000</td>\n",
              "      <td>5.400000</td>\n",
              "      <td>1995.000000</td>\n",
              "      <td>0.000000e+00</td>\n",
              "      <td>0.000000e+00</td>\n",
              "    </tr>\n",
              "    <tr>\n",
              "      <th>50%</th>\n",
              "      <td>20669.000000</td>\n",
              "      <td>0.383856</td>\n",
              "      <td>0.000000e+00</td>\n",
              "      <td>0.000000e+00</td>\n",
              "      <td>99.000000</td>\n",
              "      <td>38.000000</td>\n",
              "      <td>6.000000</td>\n",
              "      <td>2006.000000</td>\n",
              "      <td>0.000000e+00</td>\n",
              "      <td>0.000000e+00</td>\n",
              "    </tr>\n",
              "    <tr>\n",
              "      <th>75%</th>\n",
              "      <td>75610.000000</td>\n",
              "      <td>0.713817</td>\n",
              "      <td>1.500000e+07</td>\n",
              "      <td>2.400000e+07</td>\n",
              "      <td>111.000000</td>\n",
              "      <td>145.750000</td>\n",
              "      <td>6.600000</td>\n",
              "      <td>2011.000000</td>\n",
              "      <td>2.085325e+07</td>\n",
              "      <td>3.369710e+07</td>\n",
              "    </tr>\n",
              "    <tr>\n",
              "      <th>max</th>\n",
              "      <td>417859.000000</td>\n",
              "      <td>32.985763</td>\n",
              "      <td>4.250000e+08</td>\n",
              "      <td>2.781506e+09</td>\n",
              "      <td>900.000000</td>\n",
              "      <td>9767.000000</td>\n",
              "      <td>9.200000</td>\n",
              "      <td>2015.000000</td>\n",
              "      <td>4.250000e+08</td>\n",
              "      <td>2.827124e+09</td>\n",
              "    </tr>\n",
              "  </tbody>\n",
              "</table>\n",
              "</div>"
            ],
            "text/plain": [
              "                  id    popularity  ...    budget_adj   revenue_adj\n",
              "count   10866.000000  10866.000000  ...  1.086600e+04  1.086600e+04\n",
              "mean    66064.177434      0.646441  ...  1.755104e+07  5.136436e+07\n",
              "std     92130.136561      1.000185  ...  3.430616e+07  1.446325e+08\n",
              "min         5.000000      0.000065  ...  0.000000e+00  0.000000e+00\n",
              "25%     10596.250000      0.207583  ...  0.000000e+00  0.000000e+00\n",
              "50%     20669.000000      0.383856  ...  0.000000e+00  0.000000e+00\n",
              "75%     75610.000000      0.713817  ...  2.085325e+07  3.369710e+07\n",
              "max    417859.000000     32.985763  ...  4.250000e+08  2.827124e+09\n",
              "\n",
              "[8 rows x 10 columns]"
            ]
          },
          "metadata": {
            "tags": []
          },
          "execution_count": 6
        }
      ]
    },
    {
      "cell_type": "code",
      "metadata": {
        "colab": {
          "base_uri": "https://localhost:8080/"
        },
        "id": "gr_OVBdlOmo0",
        "outputId": "e019303a-2745-4a81-a1dd-0ac46cff8181"
      },
      "source": [
        "imdb_file.shape"
      ],
      "execution_count": null,
      "outputs": [
        {
          "output_type": "execute_result",
          "data": {
            "text/plain": [
              "(10866, 21)"
            ]
          },
          "metadata": {
            "tags": []
          },
          "execution_count": 7
        }
      ]
    },
    {
      "cell_type": "code",
      "metadata": {
        "colab": {
          "base_uri": "https://localhost:8080/"
        },
        "id": "9B4tKSkHOyDw",
        "outputId": "ecd467e6-8345-4ab2-950a-c39519eb7710"
      },
      "source": [
        "#Top 5 unsuccessful movies having the highest budget and the least amount of revenue earned\r\n",
        "\r\n",
        "imdb_file.sort_values([\"budget\", \"revenue\"], ascending= [True, False])[\"original_title\"].head(5)\r\n"
      ],
      "execution_count": null,
      "outputs": [
        {
          "output_type": "execute_result",
          "data": {
            "text/plain": [
              "7470                                  Wild Hogs\n",
              "9467                        Crocodile Dundee II\n",
              "95       Alvin and the Chipmunks: The Road Chip\n",
              "10009                         Presumed Innocent\n",
              "8099                                   Outbreak\n",
              "Name: original_title, dtype: object"
            ]
          },
          "metadata": {
            "tags": []
          },
          "execution_count": 8
        }
      ]
    },
    {
      "cell_type": "code",
      "metadata": {
        "colab": {
          "base_uri": "https://localhost:8080/",
          "height": 413
        },
        "id": "aFfD2M5GPosi",
        "outputId": "d9ba9b87-30e1-40f6-d357-37f988116682"
      },
      "source": [
        "imdb_file.nlargest(3, [\"budget\"])"
      ],
      "execution_count": null,
      "outputs": [
        {
          "output_type": "execute_result",
          "data": {
            "text/html": [
              "<div>\n",
              "<style scoped>\n",
              "    .dataframe tbody tr th:only-of-type {\n",
              "        vertical-align: middle;\n",
              "    }\n",
              "\n",
              "    .dataframe tbody tr th {\n",
              "        vertical-align: top;\n",
              "    }\n",
              "\n",
              "    .dataframe thead th {\n",
              "        text-align: right;\n",
              "    }\n",
              "</style>\n",
              "<table border=\"1\" class=\"dataframe\">\n",
              "  <thead>\n",
              "    <tr style=\"text-align: right;\">\n",
              "      <th></th>\n",
              "      <th>id</th>\n",
              "      <th>imdb_id</th>\n",
              "      <th>popularity</th>\n",
              "      <th>budget</th>\n",
              "      <th>revenue</th>\n",
              "      <th>original_title</th>\n",
              "      <th>cast</th>\n",
              "      <th>homepage</th>\n",
              "      <th>director</th>\n",
              "      <th>tagline</th>\n",
              "      <th>keywords</th>\n",
              "      <th>overview</th>\n",
              "      <th>runtime</th>\n",
              "      <th>genres</th>\n",
              "      <th>production_companies</th>\n",
              "      <th>release_date</th>\n",
              "      <th>vote_count</th>\n",
              "      <th>vote_average</th>\n",
              "      <th>release_year</th>\n",
              "      <th>budget_adj</th>\n",
              "      <th>revenue_adj</th>\n",
              "    </tr>\n",
              "  </thead>\n",
              "  <tbody>\n",
              "    <tr>\n",
              "      <th>2244</th>\n",
              "      <td>46528</td>\n",
              "      <td>tt1032751</td>\n",
              "      <td>0.250540</td>\n",
              "      <td>425000000</td>\n",
              "      <td>11087569</td>\n",
              "      <td>The Warrior's Way</td>\n",
              "      <td>Kate Bosworth|Jang Dong-gun|Geoffrey Rush|Dann...</td>\n",
              "      <td>http://www.iamrogue.com/thewarriorsway</td>\n",
              "      <td>Sngmoo Lee</td>\n",
              "      <td>Assassin. Hero. Legend.</td>\n",
              "      <td>assassin|small town|revenge|deception|super speed</td>\n",
              "      <td>An Asian assassin (Dong-gun Jang) is forced to...</td>\n",
              "      <td>100</td>\n",
              "      <td>Adventure|Fantasy|Action|Western|Thriller</td>\n",
              "      <td>Boram Entertainment Inc.</td>\n",
              "      <td>12/2/10</td>\n",
              "      <td>74</td>\n",
              "      <td>6.4</td>\n",
              "      <td>2010</td>\n",
              "      <td>4.250000e+08</td>\n",
              "      <td>1.108757e+07</td>\n",
              "    </tr>\n",
              "    <tr>\n",
              "      <th>3375</th>\n",
              "      <td>1865</td>\n",
              "      <td>tt1298650</td>\n",
              "      <td>4.955130</td>\n",
              "      <td>380000000</td>\n",
              "      <td>1021683000</td>\n",
              "      <td>Pirates of the Caribbean: On Stranger Tides</td>\n",
              "      <td>Johnny Depp|PenÃ©lope Cruz|Geoffrey Rush|Ian M...</td>\n",
              "      <td>http://disney.go.com/pirates/index-on-stranger...</td>\n",
              "      <td>Rob Marshall</td>\n",
              "      <td>Live Forever Or Die Trying.</td>\n",
              "      <td>sea|captain|mutiny|sword|prime minister</td>\n",
              "      <td>Captain Jack Sparrow crosses paths with a woma...</td>\n",
              "      <td>136</td>\n",
              "      <td>Adventure|Action|Fantasy</td>\n",
              "      <td>Walt Disney Pictures|Jerry Bruckheimer Films|M...</td>\n",
              "      <td>5/11/11</td>\n",
              "      <td>3180</td>\n",
              "      <td>6.3</td>\n",
              "      <td>2011</td>\n",
              "      <td>3.683713e+08</td>\n",
              "      <td>9.904175e+08</td>\n",
              "    </tr>\n",
              "    <tr>\n",
              "      <th>7387</th>\n",
              "      <td>285</td>\n",
              "      <td>tt0449088</td>\n",
              "      <td>4.965391</td>\n",
              "      <td>300000000</td>\n",
              "      <td>961000000</td>\n",
              "      <td>Pirates of the Caribbean: At World's End</td>\n",
              "      <td>Johnny Depp|Orlando Bloom|Keira Knightley|Geof...</td>\n",
              "      <td>http://disney.go.com/disneypictures/pirates/</td>\n",
              "      <td>Gore Verbinski</td>\n",
              "      <td>At the end of the world, the adventure begins.</td>\n",
              "      <td>ocean|drug abuse|exotic island|east india trad...</td>\n",
              "      <td>Captain Barbossa, long believed to be dead, ha...</td>\n",
              "      <td>169</td>\n",
              "      <td>Adventure|Fantasy|Action</td>\n",
              "      <td>Walt Disney Pictures|Jerry Bruckheimer Films|S...</td>\n",
              "      <td>5/19/07</td>\n",
              "      <td>2626</td>\n",
              "      <td>6.8</td>\n",
              "      <td>2007</td>\n",
              "      <td>3.155006e+08</td>\n",
              "      <td>1.010654e+09</td>\n",
              "    </tr>\n",
              "  </tbody>\n",
              "</table>\n",
              "</div>"
            ],
            "text/plain": [
              "         id    imdb_id  popularity  ...  release_year    budget_adj   revenue_adj\n",
              "2244  46528  tt1032751    0.250540  ...          2010  4.250000e+08  1.108757e+07\n",
              "3375   1865  tt1298650    4.955130  ...          2011  3.683713e+08  9.904175e+08\n",
              "7387    285  tt0449088    4.965391  ...          2007  3.155006e+08  1.010654e+09\n",
              "\n",
              "[3 rows x 21 columns]"
            ]
          },
          "metadata": {
            "tags": []
          },
          "execution_count": 9
        }
      ]
    },
    {
      "cell_type": "code",
      "metadata": {
        "colab": {
          "base_uri": "https://localhost:8080/",
          "height": 328
        },
        "id": "eKrdGsrWVQj-",
        "outputId": "25467796-af4c-4cd9-eb4d-a0769a943252"
      },
      "source": [
        "imdb_file.nsmallest(3, [\"budget\"])"
      ],
      "execution_count": null,
      "outputs": [
        {
          "output_type": "execute_result",
          "data": {
            "text/html": [
              "<div>\n",
              "<style scoped>\n",
              "    .dataframe tbody tr th:only-of-type {\n",
              "        vertical-align: middle;\n",
              "    }\n",
              "\n",
              "    .dataframe tbody tr th {\n",
              "        vertical-align: top;\n",
              "    }\n",
              "\n",
              "    .dataframe thead th {\n",
              "        text-align: right;\n",
              "    }\n",
              "</style>\n",
              "<table border=\"1\" class=\"dataframe\">\n",
              "  <thead>\n",
              "    <tr style=\"text-align: right;\">\n",
              "      <th></th>\n",
              "      <th>id</th>\n",
              "      <th>imdb_id</th>\n",
              "      <th>popularity</th>\n",
              "      <th>budget</th>\n",
              "      <th>revenue</th>\n",
              "      <th>original_title</th>\n",
              "      <th>cast</th>\n",
              "      <th>homepage</th>\n",
              "      <th>director</th>\n",
              "      <th>tagline</th>\n",
              "      <th>keywords</th>\n",
              "      <th>overview</th>\n",
              "      <th>runtime</th>\n",
              "      <th>genres</th>\n",
              "      <th>production_companies</th>\n",
              "      <th>release_date</th>\n",
              "      <th>vote_count</th>\n",
              "      <th>vote_average</th>\n",
              "      <th>release_year</th>\n",
              "      <th>budget_adj</th>\n",
              "      <th>revenue_adj</th>\n",
              "    </tr>\n",
              "  </thead>\n",
              "  <tbody>\n",
              "    <tr>\n",
              "      <th>30</th>\n",
              "      <td>280996</td>\n",
              "      <td>tt3168230</td>\n",
              "      <td>3.927333</td>\n",
              "      <td>0</td>\n",
              "      <td>29355203</td>\n",
              "      <td>Mr. Holmes</td>\n",
              "      <td>Ian McKellen|Milo Parker|Laura Linney|Hattie M...</td>\n",
              "      <td>http://www.mrholmesfilm.com/</td>\n",
              "      <td>Bill Condon</td>\n",
              "      <td>The man behind the myth</td>\n",
              "      <td>london|detective|sherlock holmes</td>\n",
              "      <td>The story is set in 1947, following a long-ret...</td>\n",
              "      <td>103</td>\n",
              "      <td>Mystery|Drama</td>\n",
              "      <td>BBC Films|See-Saw Films|FilmNation Entertainme...</td>\n",
              "      <td>6/19/15</td>\n",
              "      <td>425</td>\n",
              "      <td>6.4</td>\n",
              "      <td>2015</td>\n",
              "      <td>0.0</td>\n",
              "      <td>2.700677e+07</td>\n",
              "    </tr>\n",
              "    <tr>\n",
              "      <th>36</th>\n",
              "      <td>339527</td>\n",
              "      <td>tt1291570</td>\n",
              "      <td>3.358321</td>\n",
              "      <td>0</td>\n",
              "      <td>22354572</td>\n",
              "      <td>Solace</td>\n",
              "      <td>Abbie Cornish|Jeffrey Dean Morgan|Colin Farrel...</td>\n",
              "      <td>NaN</td>\n",
              "      <td>Afonso Poyart</td>\n",
              "      <td>A serial killer who can see your future, a psy...</td>\n",
              "      <td>thriller|serial killer|psychic|fbi agent|intrigue</td>\n",
              "      <td>A psychic doctor, John Clancy, works with an F...</td>\n",
              "      <td>101</td>\n",
              "      <td>Crime|Drama|Mystery</td>\n",
              "      <td>Eden Rock Media|FilmNation Entertainment|Flynn...</td>\n",
              "      <td>9/3/15</td>\n",
              "      <td>474</td>\n",
              "      <td>6.2</td>\n",
              "      <td>2015</td>\n",
              "      <td>0.0</td>\n",
              "      <td>2.056620e+07</td>\n",
              "    </tr>\n",
              "    <tr>\n",
              "      <th>72</th>\n",
              "      <td>284289</td>\n",
              "      <td>tt2911668</td>\n",
              "      <td>2.272044</td>\n",
              "      <td>0</td>\n",
              "      <td>45895</td>\n",
              "      <td>Beyond the Reach</td>\n",
              "      <td>Michael Douglas|Jeremy Irvine|Hanna Mangan Law...</td>\n",
              "      <td>NaN</td>\n",
              "      <td>Jean-Baptiste LÃ©onetti</td>\n",
              "      <td>NaN</td>\n",
              "      <td>desert|hunting</td>\n",
              "      <td>A high-rolling corporate shark and his impover...</td>\n",
              "      <td>95</td>\n",
              "      <td>Thriller</td>\n",
              "      <td>Furthur Films</td>\n",
              "      <td>4/17/15</td>\n",
              "      <td>81</td>\n",
              "      <td>5.5</td>\n",
              "      <td>2015</td>\n",
              "      <td>0.0</td>\n",
              "      <td>4.222338e+04</td>\n",
              "    </tr>\n",
              "  </tbody>\n",
              "</table>\n",
              "</div>"
            ],
            "text/plain": [
              "        id    imdb_id  popularity  ...  release_year  budget_adj   revenue_adj\n",
              "30  280996  tt3168230    3.927333  ...          2015         0.0  2.700677e+07\n",
              "36  339527  tt1291570    3.358321  ...          2015         0.0  2.056620e+07\n",
              "72  284289  tt2911668    2.272044  ...          2015         0.0  4.222338e+04\n",
              "\n",
              "[3 rows x 21 columns]"
            ]
          },
          "metadata": {
            "tags": []
          },
          "execution_count": 10
        }
      ]
    },
    {
      "cell_type": "markdown",
      "metadata": {
        "id": "lss1NhDNVXLO"
      },
      "source": [
        "Movie with the 3rd highest budget: Pirates of the Caribbean: At World's End\r\n",
        "\r\n",
        "Movie with the 3rd lowest budget: Beyond the Reach"
      ]
    },
    {
      "cell_type": "code",
      "metadata": {
        "colab": {
          "base_uri": "https://localhost:8080/"
        },
        "id": "kp45eI9JV5l1",
        "outputId": "e889d148-cf28-4e43-b151-039bfede49e4"
      },
      "source": [
        "imdb_years = imdb_file[(imdb_file[\"release_year\"] > 1999) & (imdb_file[\"release_year\"] < 2006) ]\r\n",
        "imdb_years_words = imdb_years[\"original_title\"].str.split().reset_index()[\"original_title\"].agg(lambda x: len(x)).reset_index()\r\n",
        "imdb_years_words[\"original_title\"].mean()"
      ],
      "execution_count": null,
      "outputs": [
        {
          "output_type": "execute_result",
          "data": {
            "text/plain": [
              "2.879668049792531"
            ]
          },
          "metadata": {
            "tags": []
          },
          "execution_count": 11
        }
      ]
    },
    {
      "cell_type": "markdown",
      "metadata": {
        "id": "Z7yfJetEWYZ2"
      },
      "source": [
        "Average no. of words in movie titles between the years 2000-2005 is 2.879"
      ]
    },
    {
      "cell_type": "code",
      "metadata": {
        "id": "DYUGfaO9aWY6",
        "colab": {
          "base_uri": "https://localhost:8080/",
          "height": 430
        },
        "outputId": "cdaf9cbc-eb8b-49e0-8279-0ba02ce64afc"
      },
      "source": [
        "imdb_file.nlargest(3, [\"revenue\"]).head(3)"
      ],
      "execution_count": null,
      "outputs": [
        {
          "output_type": "execute_result",
          "data": {
            "text/html": [
              "<div>\n",
              "<style scoped>\n",
              "    .dataframe tbody tr th:only-of-type {\n",
              "        vertical-align: middle;\n",
              "    }\n",
              "\n",
              "    .dataframe tbody tr th {\n",
              "        vertical-align: top;\n",
              "    }\n",
              "\n",
              "    .dataframe thead th {\n",
              "        text-align: right;\n",
              "    }\n",
              "</style>\n",
              "<table border=\"1\" class=\"dataframe\">\n",
              "  <thead>\n",
              "    <tr style=\"text-align: right;\">\n",
              "      <th></th>\n",
              "      <th>id</th>\n",
              "      <th>imdb_id</th>\n",
              "      <th>popularity</th>\n",
              "      <th>budget</th>\n",
              "      <th>revenue</th>\n",
              "      <th>original_title</th>\n",
              "      <th>cast</th>\n",
              "      <th>homepage</th>\n",
              "      <th>director</th>\n",
              "      <th>tagline</th>\n",
              "      <th>keywords</th>\n",
              "      <th>overview</th>\n",
              "      <th>runtime</th>\n",
              "      <th>genres</th>\n",
              "      <th>production_companies</th>\n",
              "      <th>release_date</th>\n",
              "      <th>vote_count</th>\n",
              "      <th>vote_average</th>\n",
              "      <th>release_year</th>\n",
              "      <th>budget_adj</th>\n",
              "      <th>revenue_adj</th>\n",
              "    </tr>\n",
              "  </thead>\n",
              "  <tbody>\n",
              "    <tr>\n",
              "      <th>1386</th>\n",
              "      <td>19995</td>\n",
              "      <td>tt0499549</td>\n",
              "      <td>9.432768</td>\n",
              "      <td>237000000</td>\n",
              "      <td>2781505847</td>\n",
              "      <td>Avatar</td>\n",
              "      <td>Sam Worthington|Zoe Saldana|Sigourney Weaver|S...</td>\n",
              "      <td>http://www.avatarmovie.com/</td>\n",
              "      <td>James Cameron</td>\n",
              "      <td>Enter the World of Pandora.</td>\n",
              "      <td>culture clash|future|space war|space colony|so...</td>\n",
              "      <td>In the 22nd century, a paraplegic Marine is di...</td>\n",
              "      <td>162</td>\n",
              "      <td>Action|Adventure|Fantasy|Science Fiction</td>\n",
              "      <td>Ingenious Film Partners|Twentieth Century Fox ...</td>\n",
              "      <td>12/10/09</td>\n",
              "      <td>8458</td>\n",
              "      <td>7.1</td>\n",
              "      <td>2009</td>\n",
              "      <td>2.408869e+08</td>\n",
              "      <td>2.827124e+09</td>\n",
              "    </tr>\n",
              "    <tr>\n",
              "      <th>3</th>\n",
              "      <td>140607</td>\n",
              "      <td>tt2488496</td>\n",
              "      <td>11.173104</td>\n",
              "      <td>200000000</td>\n",
              "      <td>2068178225</td>\n",
              "      <td>Star Wars: The Force Awakens</td>\n",
              "      <td>Harrison Ford|Mark Hamill|Carrie Fisher|Adam D...</td>\n",
              "      <td>http://www.starwars.com/films/star-wars-episod...</td>\n",
              "      <td>J.J. Abrams</td>\n",
              "      <td>Every generation has a story.</td>\n",
              "      <td>android|spaceship|jedi|space opera|3d</td>\n",
              "      <td>Thirty years after defeating the Galactic Empi...</td>\n",
              "      <td>136</td>\n",
              "      <td>Action|Adventure|Science Fiction|Fantasy</td>\n",
              "      <td>Lucasfilm|Truenorth Productions|Bad Robot</td>\n",
              "      <td>12/15/15</td>\n",
              "      <td>5292</td>\n",
              "      <td>7.5</td>\n",
              "      <td>2015</td>\n",
              "      <td>1.839999e+08</td>\n",
              "      <td>1.902723e+09</td>\n",
              "    </tr>\n",
              "    <tr>\n",
              "      <th>5231</th>\n",
              "      <td>597</td>\n",
              "      <td>tt0120338</td>\n",
              "      <td>4.355219</td>\n",
              "      <td>200000000</td>\n",
              "      <td>1845034188</td>\n",
              "      <td>Titanic</td>\n",
              "      <td>Kate Winslet|Leonardo DiCaprio|Frances Fisher|...</td>\n",
              "      <td>http://www.titanicmovie.com/menu.html</td>\n",
              "      <td>James Cameron</td>\n",
              "      <td>Nothing on Earth could come between them.</td>\n",
              "      <td>shipwreck|iceberg|ship|panic|titanic</td>\n",
              "      <td>84 years later, a 101-year-old woman named Ros...</td>\n",
              "      <td>194</td>\n",
              "      <td>Drama|Romance|Thriller</td>\n",
              "      <td>Paramount Pictures|Twentieth Century Fox Film ...</td>\n",
              "      <td>11/18/97</td>\n",
              "      <td>4654</td>\n",
              "      <td>7.3</td>\n",
              "      <td>1997</td>\n",
              "      <td>2.716921e+08</td>\n",
              "      <td>2.506406e+09</td>\n",
              "    </tr>\n",
              "  </tbody>\n",
              "</table>\n",
              "</div>"
            ],
            "text/plain": [
              "          id    imdb_id  popularity  ...  release_year    budget_adj   revenue_adj\n",
              "1386   19995  tt0499549    9.432768  ...          2009  2.408869e+08  2.827124e+09\n",
              "3     140607  tt2488496   11.173104  ...          2015  1.839999e+08  1.902723e+09\n",
              "5231     597  tt0120338    4.355219  ...          1997  2.716921e+08  2.506406e+09\n",
              "\n",
              "[3 rows x 21 columns]"
            ]
          },
          "metadata": {
            "tags": []
          },
          "execution_count": 13
        }
      ]
    },
    {
      "cell_type": "markdown",
      "metadata": {
        "id": "4jhvAKWFb61-"
      },
      "source": [
        "Movie with the most earned revenue: Avatar"
      ]
    },
    {
      "cell_type": "code",
      "metadata": {
        "id": "CTZt51qid_R9",
        "colab": {
          "base_uri": "https://localhost:8080/",
          "height": 397
        },
        "outputId": "25129d3f-8b9c-4344-e4d3-94756ad9681e"
      },
      "source": [
        "imdb_file.nsmallest(3, [\"revenue\"]).head(3)"
      ],
      "execution_count": null,
      "outputs": [
        {
          "output_type": "execute_result",
          "data": {
            "text/html": [
              "<div>\n",
              "<style scoped>\n",
              "    .dataframe tbody tr th:only-of-type {\n",
              "        vertical-align: middle;\n",
              "    }\n",
              "\n",
              "    .dataframe tbody tr th {\n",
              "        vertical-align: top;\n",
              "    }\n",
              "\n",
              "    .dataframe thead th {\n",
              "        text-align: right;\n",
              "    }\n",
              "</style>\n",
              "<table border=\"1\" class=\"dataframe\">\n",
              "  <thead>\n",
              "    <tr style=\"text-align: right;\">\n",
              "      <th></th>\n",
              "      <th>id</th>\n",
              "      <th>imdb_id</th>\n",
              "      <th>popularity</th>\n",
              "      <th>budget</th>\n",
              "      <th>revenue</th>\n",
              "      <th>original_title</th>\n",
              "      <th>cast</th>\n",
              "      <th>homepage</th>\n",
              "      <th>director</th>\n",
              "      <th>tagline</th>\n",
              "      <th>keywords</th>\n",
              "      <th>overview</th>\n",
              "      <th>runtime</th>\n",
              "      <th>genres</th>\n",
              "      <th>production_companies</th>\n",
              "      <th>release_date</th>\n",
              "      <th>vote_count</th>\n",
              "      <th>vote_average</th>\n",
              "      <th>release_year</th>\n",
              "      <th>budget_adj</th>\n",
              "      <th>revenue_adj</th>\n",
              "    </tr>\n",
              "  </thead>\n",
              "  <tbody>\n",
              "    <tr>\n",
              "      <th>48</th>\n",
              "      <td>265208</td>\n",
              "      <td>tt2231253</td>\n",
              "      <td>2.932340</td>\n",
              "      <td>30000000</td>\n",
              "      <td>0</td>\n",
              "      <td>Wild Card</td>\n",
              "      <td>Jason Statham|Michael Angarano|Milo Ventimigli...</td>\n",
              "      <td>NaN</td>\n",
              "      <td>Simon West</td>\n",
              "      <td>Never bet against a man with a killer hand.</td>\n",
              "      <td>gambling|bodyguard|remake</td>\n",
              "      <td>When a Las Vegas bodyguard with lethal skills ...</td>\n",
              "      <td>92</td>\n",
              "      <td>Thriller|Crime|Drama</td>\n",
              "      <td>Current Entertainment|Lionsgate|Sierra / Affin...</td>\n",
              "      <td>1/14/15</td>\n",
              "      <td>481</td>\n",
              "      <td>5.3</td>\n",
              "      <td>2015</td>\n",
              "      <td>2.759999e+07</td>\n",
              "      <td>0.0</td>\n",
              "    </tr>\n",
              "    <tr>\n",
              "      <th>67</th>\n",
              "      <td>334074</td>\n",
              "      <td>tt3247714</td>\n",
              "      <td>2.331636</td>\n",
              "      <td>20000000</td>\n",
              "      <td>0</td>\n",
              "      <td>Survivor</td>\n",
              "      <td>Pierce Brosnan|Milla Jovovich|Dylan McDermott|...</td>\n",
              "      <td>http://survivormovie.com/</td>\n",
              "      <td>James McTeigue</td>\n",
              "      <td>His Next Target is Now Hunting Him</td>\n",
              "      <td>new year's eve|fire|showdown|terrorist|embassy</td>\n",
              "      <td>A Foreign Service Officer in London tries to p...</td>\n",
              "      <td>96</td>\n",
              "      <td>Crime|Thriller|Action</td>\n",
              "      <td>Nu Image Films|Winkler Films|Millennium Films|...</td>\n",
              "      <td>5/21/15</td>\n",
              "      <td>280</td>\n",
              "      <td>5.4</td>\n",
              "      <td>2015</td>\n",
              "      <td>1.839999e+07</td>\n",
              "      <td>0.0</td>\n",
              "    </tr>\n",
              "    <tr>\n",
              "      <th>74</th>\n",
              "      <td>347096</td>\n",
              "      <td>tt3478232</td>\n",
              "      <td>2.165433</td>\n",
              "      <td>0</td>\n",
              "      <td>0</td>\n",
              "      <td>Mythica: The Darkspore</td>\n",
              "      <td>Melanie Stone|Kevin Sorbo|Adam Johnson|Jake St...</td>\n",
              "      <td>http://www.mythicamovie.com/#!blank/wufvh</td>\n",
              "      <td>Anne K. Black</td>\n",
              "      <td>NaN</td>\n",
              "      <td>sword|magic|sorcery|necromancer|woman director</td>\n",
              "      <td>When Teelaâ€™s sister is murdered and a powerf...</td>\n",
              "      <td>108</td>\n",
              "      <td>Action|Adventure|Fantasy</td>\n",
              "      <td>Arrowstorm Entertainment</td>\n",
              "      <td>6/24/15</td>\n",
              "      <td>27</td>\n",
              "      <td>5.1</td>\n",
              "      <td>2015</td>\n",
              "      <td>0.000000e+00</td>\n",
              "      <td>0.0</td>\n",
              "    </tr>\n",
              "  </tbody>\n",
              "</table>\n",
              "</div>"
            ],
            "text/plain": [
              "        id    imdb_id  popularity  ...  release_year    budget_adj revenue_adj\n",
              "48  265208  tt2231253    2.932340  ...          2015  2.759999e+07         0.0\n",
              "67  334074  tt3247714    2.331636  ...          2015  1.839999e+07         0.0\n",
              "74  347096  tt3478232    2.165433  ...          2015  0.000000e+00         0.0\n",
              "\n",
              "[3 rows x 21 columns]"
            ]
          },
          "metadata": {
            "tags": []
          },
          "execution_count": 14
        }
      ]
    },
    {
      "cell_type": "markdown",
      "metadata": {
        "id": "qRA-oX9-V9zB"
      },
      "source": [
        "Movie with the least earned revenue: Wild Card"
      ]
    },
    {
      "cell_type": "code",
      "metadata": {
        "colab": {
          "base_uri": "https://localhost:8080/"
        },
        "id": "3y85ved4WEPz",
        "outputId": "7a86d9db-ca37-49f5-d1a6-83e15b4d0e89"
      },
      "source": [
        "imdb_file_2006 = imdb_file[imdb_file[\"release_year\"] == 2006]\r\n",
        "imdb_file_2006[\"runtime\"].mean()"
      ],
      "execution_count": null,
      "outputs": [
        {
          "output_type": "execute_result",
          "data": {
            "text/plain": [
              "101.68382352941177"
            ]
          },
          "metadata": {
            "tags": []
          },
          "execution_count": 16
        }
      ]
    },
    {
      "cell_type": "markdown",
      "metadata": {
        "id": "g_hGpk7yWMUw"
      },
      "source": [
        "Average runtime of movies released in the year 20062: 101.68 minutes"
      ]
    },
    {
      "cell_type": "code",
      "metadata": {
        "colab": {
          "base_uri": "https://localhost:8080/",
          "height": 345
        },
        "id": "nLntK0k9WfLF",
        "outputId": "3d40a639-84ea-4cfb-9579-13c4548683c4"
      },
      "source": [
        "imdb_21cent = imdb_file[(imdb_file[\"release_year\"] > 1999)]\r\n",
        "imdb_21cent = imdb_21cent.groupby(\"release_year\")[\"revenue\"].mean().reset_index()\r\n",
        "sns.set_context(\"talk\")\r\n",
        "plot = sns.barplot(x = \"release_year\", y = \"revenue\", data = imdb_21cent)\r\n",
        "plt.xticks(rotation = 90)\r\n",
        "plt.xlabel(\"Release Year\")\r\n",
        "plt.ylabel(\"Revenue Earned\")\r\n",
        "plt.title(\"Movie Revenue\")\r\n",
        "sns.despine(right = True, left = True, bottom = True)"
      ],
      "execution_count": null,
      "outputs": [
        {
          "output_type": "display_data",
          "data": {
            "image/png": "[encoded data removed]",
            "text/plain": [
              "<Figure size 432x288 with 1 Axes>"
            ]
          },
          "metadata": {
            "tags": [],
            "needs_background": "light"
          }
        }
      ]
    },
    {
      "cell_type": "code",
      "metadata": {
        "id": "7kNPKjb5XT_m"
      },
      "source": [
        ""
      ],
      "execution_count": null,
      "outputs": []
    },
    {
      "cell_type": "code",
      "metadata": {
        "id": "Vws_vz_sY5gr"
      },
      "source": [
        ""
      ],
      "execution_count": null,
      "outputs": []
    }
  ]
}